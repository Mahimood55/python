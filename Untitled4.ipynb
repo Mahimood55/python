{
 "cells": [
  {
   "cell_type": "markdown",
   "id": "da60e812-b3f1-4820-99d6-9b2416a93925",
   "metadata": {},
   "source": [
    "STRING---1)INDEXING\n",
    "         2)SLICING"
   ]
  },
  {
   "cell_type": "markdown",
   "id": "022cd155-e34b-4f96-8ef6-99a8ffb8918e",
   "metadata": {},
   "source": [
    "INDEXING"
   ]
  },
  {
   "cell_type": "code",
   "execution_count": null,
   "id": "4ad3473b-c1a5-4a96-a4be-8cc06a83a936",
   "metadata": {},
   "outputs": [],
   "source": [
    "#TWO TYPE OF INDEXING THERE ARE\n",
    "BACKWARD INDEXING\n",
    "FORWARD INDEXING"
   ]
  },
  {
   "cell_type": "code",
   "execution_count": null,
   "id": "466fed64-7679-46cf-9a4f-8bb57db9aac2",
   "metadata": {},
   "outputs": [],
   "source": [
    "FORWARD INDEX------>LEFT TO RIGHT INDEX START WITH '0'"
   ]
  },
  {
   "cell_type": "code",
   "execution_count": null,
   "id": "b4430da2-f4b0-4d1b-9cf9-b5142571f245",
   "metadata": {},
   "outputs": [],
   "source": [
    "BACKWARD INDEX------>RIGTH TO LEFT START WITH '-1'"
   ]
  },
  {
   "cell_type": "code",
   "execution_count": null,
   "id": "1a26238d-b0eb-421c-b7b8-7f95fb11ede9",
   "metadata": {},
   "outputs": [],
   "source": [
    "forward index----->\n",
    "_________________________\n",
    "H E L L O  P Y T H O N E\n",
    "_________________________\n",
    "backward index<-------<---"
   ]
  },
  {
   "cell_type": "code",
   "execution_count": 1,
   "id": "015f69e4-a669-4f86-801a-9cec5fe0af12",
   "metadata": {},
   "outputs": [
    {
     "data": {
      "text/plain": [
       "'hellopython'"
      ]
     },
     "execution_count": 1,
     "metadata": {},
     "output_type": "execute_result"
    }
   ],
   "source": [
    "st='hellopython'\n",
    "st"
   ]
  },
  {
   "cell_type": "code",
   "execution_count": 2,
   "id": "cb7f0567-4fa9-4471-abd7-404a512b7061",
   "metadata": {},
   "outputs": [
    {
     "data": {
      "text/plain": [
       "'h'"
      ]
     },
     "execution_count": 2,
     "metadata": {},
     "output_type": "execute_result"
    }
   ],
   "source": [
    "st[0]"
   ]
  },
  {
   "cell_type": "code",
   "execution_count": 3,
   "id": "0cb777f7-a755-498b-88e1-c6724088b084",
   "metadata": {},
   "outputs": [
    {
     "data": {
      "text/plain": [
       "'l'"
      ]
     },
     "execution_count": 3,
     "metadata": {},
     "output_type": "execute_result"
    }
   ],
   "source": [
    "st[2]"
   ]
  },
  {
   "cell_type": "code",
   "execution_count": 4,
   "id": "ad854727-e57a-43d3-be45-5187f45e3c4c",
   "metadata": {},
   "outputs": [
    {
     "data": {
      "text/plain": [
       "'t'"
      ]
     },
     "execution_count": 4,
     "metadata": {},
     "output_type": "execute_result"
    }
   ],
   "source": [
    "st[7]"
   ]
  },
  {
   "cell_type": "code",
   "execution_count": 5,
   "id": "9095676e-c620-4292-aa0f-605e751dc26b",
   "metadata": {},
   "outputs": [
    {
     "data": {
      "text/plain": [
       "'h'"
      ]
     },
     "execution_count": 5,
     "metadata": {},
     "output_type": "execute_result"
    }
   ],
   "source": [
    "st[-3]"
   ]
  },
  {
   "cell_type": "code",
   "execution_count": 6,
   "id": "6c7a4225-d6f5-494d-a0d8-079d360f45d1",
   "metadata": {},
   "outputs": [
    {
     "data": {
      "text/plain": [
       "'n'"
      ]
     },
     "execution_count": 6,
     "metadata": {},
     "output_type": "execute_result"
    }
   ],
   "source": [
    "st[10]"
   ]
  },
  {
   "cell_type": "code",
   "execution_count": 7,
   "id": "6d0ae254-e490-48bf-b5ce-250e4fcc14b1",
   "metadata": {},
   "outputs": [
    {
     "ename": "IndexError",
     "evalue": "string index out of range",
     "output_type": "error",
     "traceback": [
      "\u001b[1;31m---------------------------------------------------------------------------\u001b[0m",
      "\u001b[1;31mIndexError\u001b[0m                                Traceback (most recent call last)",
      "Cell \u001b[1;32mIn[7], line 1\u001b[0m\n\u001b[1;32m----> 1\u001b[0m st[\u001b[38;5;241m15\u001b[39m]\n",
      "\u001b[1;31mIndexError\u001b[0m: string index out of range"
     ]
    }
   ],
   "source": [
    "st[15]"
   ]
  },
  {
   "cell_type": "markdown",
   "id": "42a38661-e4fc-4c7f-8aa2-0201534792b9",
   "metadata": {},
   "source": [
    "SLICING[:]\n",
    "\n"
   ]
  },
  {
   "cell_type": "code",
   "execution_count": 21,
   "id": "b797ef6d-418c-462d-9c7b-d2fe353e6854",
   "metadata": {},
   "outputs": [
    {
     "data": {
      "text/plain": [
       "'hellopython'"
      ]
     },
     "execution_count": 21,
     "metadata": {},
     "output_type": "execute_result"
    }
   ],
   "source": [
    "st[:]"
   ]
  },
  {
   "cell_type": "code",
   "execution_count": 22,
   "id": "ebcb9e6c-5426-4edf-9172-3f25f773ead6",
   "metadata": {},
   "outputs": [
    {
     "data": {
      "text/plain": [
       "'h'"
      ]
     },
     "execution_count": 22,
     "metadata": {},
     "output_type": "execute_result"
    }
   ],
   "source": [
    "st[:1]"
   ]
  },
  {
   "cell_type": "code",
   "execution_count": 8,
   "id": "cfa22325-6028-498e-908b-b572e342de73",
   "metadata": {},
   "outputs": [
    {
     "data": {
      "text/plain": [
       "'ll'"
      ]
     },
     "execution_count": 8,
     "metadata": {},
     "output_type": "execute_result"
    }
   ],
   "source": [
    "st[2:4]"
   ]
  },
  {
   "cell_type": "code",
   "execution_count": 10,
   "id": "251d346c-72ce-461a-a3b7-f4924500bc95",
   "metadata": {},
   "outputs": [
    {
     "data": {
      "text/plain": [
       "'llopyt'"
      ]
     },
     "execution_count": 10,
     "metadata": {},
     "output_type": "execute_result"
    }
   ],
   "source": [
    "st[2:8]"
   ]
  },
  {
   "cell_type": "code",
   "execution_count": 11,
   "id": "955eab14-021c-478f-a53b-aab16187b9d6",
   "metadata": {},
   "outputs": [
    {
     "data": {
      "text/plain": [
       "['h', 'e', 'l', 'l', 'o', 'p', 'y', 't', 'h', 'o', 'n']"
      ]
     },
     "execution_count": 11,
     "metadata": {},
     "output_type": "execute_result"
    }
   ],
   "source": [
    "list(st)"
   ]
  },
  {
   "cell_type": "code",
   "execution_count": 12,
   "id": "7975f966-0b0d-47b9-8ebf-dd8cf2c73a9a",
   "metadata": {},
   "outputs": [
    {
     "data": {
      "text/plain": [
       "'python'"
      ]
     },
     "execution_count": 12,
     "metadata": {},
     "output_type": "execute_result"
    }
   ],
   "source": [
    "st[5:]"
   ]
  },
  {
   "cell_type": "code",
   "execution_count": 13,
   "id": "ffd8a0fd-3011-460c-b908-a6ee2746e82e",
   "metadata": {},
   "outputs": [
    {
     "data": {
      "text/plain": [
       "'hello'"
      ]
     },
     "execution_count": 13,
     "metadata": {},
     "output_type": "execute_result"
    }
   ],
   "source": [
    "st[:5]"
   ]
  },
  {
   "cell_type": "code",
   "execution_count": 14,
   "id": "65577274-f27b-4ace-8dba-1697a6ac364c",
   "metadata": {},
   "outputs": [
    {
     "data": {
      "text/plain": [
       "'hellopython'"
      ]
     },
     "execution_count": 14,
     "metadata": {},
     "output_type": "execute_result"
    }
   ],
   "source": [
    "st[:]"
   ]
  },
  {
   "cell_type": "code",
   "execution_count": 15,
   "id": "7508c9d5-0036-4510-ba68-aff46189513e",
   "metadata": {},
   "outputs": [
    {
     "data": {
      "text/plain": [
       "'hellopython'"
      ]
     },
     "execution_count": 15,
     "metadata": {},
     "output_type": "execute_result"
    }
   ],
   "source": [
    "st[::]"
   ]
  },
  {
   "cell_type": "code",
   "execution_count": 16,
   "id": "866ff465-d392-4fcd-bb54-781824ae468a",
   "metadata": {},
   "outputs": [
    {
     "data": {
      "text/plain": [
       "'hoh'"
      ]
     },
     "execution_count": 16,
     "metadata": {},
     "output_type": "execute_result"
    }
   ],
   "source": [
    "st[::4]"
   ]
  },
  {
   "cell_type": "code",
   "execution_count": 17,
   "id": "20e884fd-3e03-41bc-aad7-56291bca14ee",
   "metadata": {},
   "outputs": [
    {
     "data": {
      "text/plain": [
       "'opython'"
      ]
     },
     "execution_count": 17,
     "metadata": {},
     "output_type": "execute_result"
    }
   ],
   "source": [
    "st[4::]"
   ]
  },
  {
   "cell_type": "code",
   "execution_count": 30,
   "id": "1a584cbf-42ce-4753-a422-41929f5fb64d",
   "metadata": {},
   "outputs": [
    {
     "data": {
      "text/plain": [
       "'fine'"
      ]
     },
     "execution_count": 30,
     "metadata": {},
     "output_type": "execute_result"
    }
   ],
   "source": [
    "st1='fine'\n",
    "st1"
   ]
  },
  {
   "cell_type": "code",
   "execution_count": null,
   "id": "212fa03e-74f4-49d2-a545-52ca00557849",
   "metadata": {},
   "outputs": [],
   "source": [
    "*fine to dine "
   ]
  },
  {
   "cell_type": "code",
   "execution_count": 32,
   "id": "946138c8-3fb2-480c-be95-9ab5d27c769f",
   "metadata": {},
   "outputs": [
    {
     "data": {
      "text/plain": [
       "'dine'"
      ]
     },
     "execution_count": 32,
     "metadata": {},
     "output_type": "execute_result"
    }
   ],
   "source": [
    "'d'+st1[1:]"
   ]
  },
  {
   "cell_type": "code",
   "execution_count": 33,
   "id": "a11b2a2a-6761-49a6-bc65-13d19581063e",
   "metadata": {},
   "outputs": [
    {
     "data": {
      "text/plain": [
       "'milk'"
      ]
     },
     "execution_count": 33,
     "metadata": {},
     "output_type": "execute_result"
    }
   ],
   "source": [
    "st2='milk'\n",
    "st2"
   ]
  },
  {
   "cell_type": "code",
   "execution_count": 37,
   "id": "4f70ebc2-3b41-46dc-aeb5-b5ee5eb40dd8",
   "metadata": {},
   "outputs": [
    {
     "data": {
      "text/plain": [
       "'milkshake'"
      ]
     },
     "execution_count": 37,
     "metadata": {},
     "output_type": "execute_result"
    }
   ],
   "source": [
    "st2[0:]+'shake'"
   ]
  },
  {
   "cell_type": "code",
   "execution_count": 39,
   "id": "0c6bbc67-7482-4688-9752-ce79e6c17fbb",
   "metadata": {},
   "outputs": [
    {
     "data": {
      "text/plain": [
       "'tomandjerry'"
      ]
     },
     "execution_count": 39,
     "metadata": {},
     "output_type": "execute_result"
    }
   ],
   "source": [
    "'tom'+'and'+'jerry'"
   ]
  }
 ],
 "metadata": {
  "kernelspec": {
   "display_name": "Python 3 (ipykernel)",
   "language": "python",
   "name": "python3"
  },
  "language_info": {
   "codemirror_mode": {
    "name": "ipython",
    "version": 3
   },
   "file_extension": ".py",
   "mimetype": "text/x-python",
   "name": "python",
   "nbconvert_exporter": "python",
   "pygments_lexer": "ipython3",
   "version": "3.12.7"
  }
 },
 "nbformat": 4,
 "nbformat_minor": 5
}
