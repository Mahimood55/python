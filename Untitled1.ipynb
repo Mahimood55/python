{
 "cells": [
  {
   "cell_type": "markdown",
   "id": "1b976d06-a8aa-484e-9997-598e095ccfd0",
   "metadata": {},
   "source": [
    "data types"
   ]
  },
  {
   "cell_type": "markdown",
   "id": "6e314e4e-fc83-482a-a45a-a367aeb2dd3b",
   "metadata": {},
   "source": [
    "int data type"
   ]
  },
  {
   "cell_type": "code",
   "execution_count": 2,
   "id": "57931858-9abe-418b-9167-ba2cc4851a43",
   "metadata": {},
   "outputs": [
    {
     "data": {
      "text/plain": [
       "10"
      ]
     },
     "execution_count": 2,
     "metadata": {},
     "output_type": "execute_result"
    }
   ],
   "source": [
    "int(10)"
   ]
  },
  {
   "cell_type": "code",
   "execution_count": 4,
   "id": "ef4b0a9c-8e99-4541-a83d-2d2f2db82fa5",
   "metadata": {},
   "outputs": [
    {
     "data": {
      "text/plain": [
       "int"
      ]
     },
     "execution_count": 4,
     "metadata": {},
     "output_type": "execute_result"
    }
   ],
   "source": [
    "type(10)"
   ]
  },
  {
   "cell_type": "markdown",
   "id": "b767572e-bad0-4857-b638-9168c7880b73",
   "metadata": {},
   "source": [
    " flot data type # with decimal point "
   ]
  },
  {
   "cell_type": "code",
   "execution_count": 13,
   "id": "037555d2-42c2-415c-aff4-fbe1120f5d81",
   "metadata": {},
   "outputs": [
    {
     "data": {
      "text/plain": [
       "200.4"
      ]
     },
     "execution_count": 13,
     "metadata": {},
     "output_type": "execute_result"
    }
   ],
   "source": [
    "\n",
    "oil=200.4\n",
    "oil"
   ]
  },
  {
   "cell_type": "code",
   "execution_count": 14,
   "id": "89b1b76d-e8e1-40d8-9fde-e127a9e5082e",
   "metadata": {},
   "outputs": [
    {
     "data": {
      "text/plain": [
       "float"
      ]
     },
     "execution_count": 14,
     "metadata": {},
     "output_type": "execute_result"
    }
   ],
   "source": [
    "type(oil)"
   ]
  },
  {
   "cell_type": "code",
   "execution_count": 20,
   "id": "d5a5c0b2-c82f-43ef-a199-d52cfe0c1823",
   "metadata": {},
   "outputs": [
    {
     "data": {
      "text/plain": [
       "300.5"
      ]
     },
     "execution_count": 20,
     "metadata": {},
     "output_type": "execute_result"
    }
   ],
   "source": [
    "bill=300.50\n",
    "bill"
   ]
  },
  {
   "cell_type": "code",
   "execution_count": 23,
   "id": "94e650c9-49a0-4f7b-bf0b-5c7f272fb27b",
   "metadata": {},
   "outputs": [
    {
     "data": {
      "text/plain": [
       "2.0"
      ]
     },
     "execution_count": 23,
     "metadata": {},
     "output_type": "execute_result"
    }
   ],
   "source": [
    "f1=2e0       #only 'e' letter can be allowed\n",
    "f1"
   ]
  },
  {
   "cell_type": "code",
   "execution_count": 24,
   "id": "a5e2f0ce-26ac-4f48-b27b-b44ed7837d46",
   "metadata": {},
   "outputs": [
    {
     "data": {
      "text/plain": [
       "20.0"
      ]
     },
     "execution_count": 24,
     "metadata": {},
     "output_type": "execute_result"
    }
   ],
   "source": [
    "f2=2e1\n",
    "f2"
   ]
  },
  {
   "cell_type": "code",
   "execution_count": 25,
   "id": "0ee0c8ff-b05d-4606-9e3f-682ffe21fe74",
   "metadata": {},
   "outputs": [
    {
     "data": {
      "text/plain": [
       "400000.0"
      ]
     },
     "execution_count": 25,
     "metadata": {},
     "output_type": "execute_result"
    }
   ],
   "source": [
    "f3=4e5\n",
    "f3"
   ]
  },
  {
   "cell_type": "code",
   "execution_count": null,
   "id": "48f9b56d-cea0-465f-948d-b80bf2275a6d",
   "metadata": {},
   "outputs": [],
   "source": []
  },
  {
   "cell_type": "markdown",
   "id": "9f914112-edd2-40a9-a777-9c0e2c60fe7d",
   "metadata": {},
   "source": [
    "string('',\"\",''' ''')"
   ]
  },
  {
   "cell_type": "code",
   "execution_count": 27,
   "id": "db77f7b3-3007-4fda-a0c1-6e0c08c624b7",
   "metadata": {},
   "outputs": [
    {
     "data": {
      "text/plain": [
       "'mahimood'"
      ]
     },
     "execution_count": 27,
     "metadata": {},
     "output_type": "execute_result"
    }
   ],
   "source": [
    "s='mahimood'\n",
    "s"
   ]
  },
  {
   "cell_type": "code",
   "execution_count": 28,
   "id": "e98a2315-7807-46ba-83af-7e0b03323960",
   "metadata": {},
   "outputs": [
    {
     "data": {
      "text/plain": [
       "'10'"
      ]
     },
     "execution_count": 28,
     "metadata": {},
     "output_type": "execute_result"
    }
   ],
   "source": [
    "s1='10'\n",
    "s1"
   ]
  },
  {
   "cell_type": "code",
   "execution_count": 30,
   "id": "8471fcd1-cb26-465f-ab07-adbbc1ef3b4d",
   "metadata": {},
   "outputs": [
    {
     "data": {
      "text/plain": [
       "str"
      ]
     },
     "execution_count": 30,
     "metadata": {},
     "output_type": "execute_result"
    }
   ],
   "source": [
    "type(s1)"
   ]
  },
  {
   "cell_type": "code",
   "execution_count": 31,
   "id": "0d031be3-6aa3-4a09-ad51-a6da32ecf2d1",
   "metadata": {},
   "outputs": [
    {
     "data": {
      "text/plain": [
       "('mahimood', '20', 'apple')"
      ]
     },
     "execution_count": 31,
     "metadata": {},
     "output_type": "execute_result"
    }
   ],
   "source": [
    "s2='mahimood','20','apple'\n",
    "s2"
   ]
  },
  {
   "cell_type": "code",
   "execution_count": 33,
   "id": "a16f755f-1153-4cf5-8922-81f7f0847ebd",
   "metadata": {},
   "outputs": [
    {
     "data": {
      "text/plain": [
       "('apple', 'pen', 'robo', 'bullet', 'man')"
      ]
     },
     "execution_count": 33,
     "metadata": {},
     "output_type": "execute_result"
    }
   ],
   "source": [
    "s3='apple','pen','robo','bullet','man'\n",
    "s3"
   ]
  },
  {
   "cell_type": "code",
   "execution_count": 34,
   "id": "2859104a-751f-4a1d-ab62-9ae5f2e1b3e1",
   "metadata": {},
   "outputs": [
    {
     "data": {
      "text/plain": [
       "('human', '10')"
      ]
     },
     "execution_count": 34,
     "metadata": {},
     "output_type": "execute_result"
    }
   ],
   "source": [
    "s4='human','10'\n",
    "s4"
   ]
  },
  {
   "cell_type": "markdown",
   "id": "6a59ea13-49b6-4030-bb3d-b19c0a8c67da",
   "metadata": {},
   "source": [
    "bool data type-------->"
   ]
  },
  {
   "cell_type": "code",
   "execution_count": null,
   "id": "7e3355af-6036-4ca0-a29c-bbade1d1dbe9",
   "metadata": {},
   "outputs": [],
   "source": [
    "#bool data type is difine with True or False\n",
    "#True value is=1\n",
    "#False value is=0"
   ]
  },
  {
   "cell_type": "code",
   "execution_count": 2,
   "id": "061f2ace-b62b-4f33-831e-12c21dae0d2f",
   "metadata": {},
   "outputs": [
    {
     "data": {
      "text/plain": [
       "1"
      ]
     },
     "execution_count": 2,
     "metadata": {},
     "output_type": "execute_result"
    }
   ],
   "source": [
    "True+False"
   ]
  },
  {
   "cell_type": "code",
   "execution_count": 3,
   "id": "89795bb6-7f67-4f61-ae1d-db68c834697d",
   "metadata": {},
   "outputs": [
    {
     "data": {
      "text/plain": [
       "1"
      ]
     },
     "execution_count": 3,
     "metadata": {},
     "output_type": "execute_result"
    }
   ],
   "source": [
    "True-False"
   ]
  },
  {
   "cell_type": "code",
   "execution_count": 4,
   "id": "340342a4-8e34-41b0-8fa2-3734ed6c5275",
   "metadata": {},
   "outputs": [
    {
     "data": {
      "text/plain": [
       "0"
      ]
     },
     "execution_count": 4,
     "metadata": {},
     "output_type": "execute_result"
    }
   ],
   "source": [
    "True*False"
   ]
  },
  {
   "cell_type": "code",
   "execution_count": 5,
   "id": "ebfc77b4-db05-43cb-ba1d-9a9050dc7720",
   "metadata": {},
   "outputs": [
    {
     "ename": "ZeroDivisionError",
     "evalue": "division by zero",
     "output_type": "error",
     "traceback": [
      "\u001b[1;31m---------------------------------------------------------------------------\u001b[0m",
      "\u001b[1;31mZeroDivisionError\u001b[0m                         Traceback (most recent call last)",
      "Cell \u001b[1;32mIn[5], line 1\u001b[0m\n\u001b[1;32m----> 1\u001b[0m \u001b[38;5;28;01mTrue\u001b[39;00m\u001b[38;5;241m/\u001b[39m\u001b[38;5;28;01mFalse\u001b[39;00m\n",
      "\u001b[1;31mZeroDivisionError\u001b[0m: division by zero"
     ]
    }
   ],
   "source": [
    "True/False        # its means 1/0 is a zero division error"
   ]
  },
  {
   "cell_type": "code",
   "execution_count": 6,
   "id": "4b06fad2-f2f3-49c9-9050-2c5d24a6667c",
   "metadata": {},
   "outputs": [
    {
     "data": {
      "text/plain": [
       "0.0"
      ]
     },
     "execution_count": 6,
     "metadata": {},
     "output_type": "execute_result"
    }
   ],
   "source": [
    "False/True"
   ]
  },
  {
   "cell_type": "code",
   "execution_count": 7,
   "id": "4423236c-367c-47ba-b500-cfb4871cdb4a",
   "metadata": {},
   "outputs": [
    {
     "data": {
      "text/plain": [
       "0"
      ]
     },
     "execution_count": 7,
     "metadata": {},
     "output_type": "execute_result"
    }
   ],
   "source": [
    "False//True"
   ]
  },
  {
   "cell_type": "markdown",
   "id": "5c820eb0-18c8-492c-b638-129c16a44622",
   "metadata": {},
   "source": [
    " complex------>#(a+bj) formate\n",
    "         a-is a real part\n",
    "         b-is a imaginary part\n",
    "         j-is a squer rootbof -1\n",
    " "
   ]
  },
  {
   "cell_type": "code",
   "execution_count": 8,
   "id": "afe68f60-23f9-477a-afe5-f5a65155a9bf",
   "metadata": {},
   "outputs": [
    {
     "data": {
      "text/plain": [
       "(1+5j)"
      ]
     },
     "execution_count": 8,
     "metadata": {},
     "output_type": "execute_result"
    }
   ],
   "source": [
    "c=1+5j\n",
    "c"
   ]
  },
  {
   "cell_type": "code",
   "execution_count": 9,
   "id": "d07d2211-71c3-494a-a495-12ca45ed5ef7",
   "metadata": {},
   "outputs": [
    {
     "data": {
      "text/plain": [
       "complex"
      ]
     },
     "execution_count": 9,
     "metadata": {},
     "output_type": "execute_result"
    }
   ],
   "source": [
    "type(c)"
   ]
  },
  {
   "cell_type": "code",
   "execution_count": 11,
   "id": "c22c97cd-d7c0-46a4-8195-c61a9dbce34d",
   "metadata": {},
   "outputs": [
    {
     "data": {
      "text/plain": [
       "(5+7j)"
      ]
     },
     "execution_count": 11,
     "metadata": {},
     "output_type": "execute_result"
    }
   ],
   "source": [
    "h=5+7j\n",
    "h"
   ]
  },
  {
   "cell_type": "code",
   "execution_count": 14,
   "id": "d1e050f5-c6fe-4b38-9fdd-244a422d8ef1",
   "metadata": {},
   "outputs": [
    {
     "data": {
      "text/plain": [
       "(6+12j)"
      ]
     },
     "execution_count": 14,
     "metadata": {},
     "output_type": "execute_result"
    }
   ],
   "source": [
    "c+h"
   ]
  },
  {
   "cell_type": "code",
   "execution_count": null,
   "id": "f5e8cfd6-1258-4929-bc15-c8905839613f",
   "metadata": {},
   "outputs": [],
   "source": []
  },
  {
   "cell_type": "markdown",
   "id": "a7cfbdc3-ac5b-4791-8fd3-79786f188878",
   "metadata": {},
   "source": [
    "arguments "
   ]
  },
  {
   "cell_type": "code",
   "execution_count": null,
   "id": "4ae0048e-f431-4c5a-90cd-9e31276c78f0",
   "metadata": {},
   "outputs": [],
   "source": [
    "fun()   without argument \n",
    "add(x)  #add is a one argumet\n",
    "sub(a,b) #sub is a two arguments"
   ]
  },
  {
   "cell_type": "code",
   "execution_count": null,
   "id": "9ae28b61-dd1f-4736-9811-b75524c28f59",
   "metadata": {},
   "outputs": [],
   "source": []
  }
 ],
 "metadata": {
  "kernelspec": {
   "display_name": "Python 3 (ipykernel)",
   "language": "python",
   "name": "python3"
  },
  "language_info": {
   "codemirror_mode": {
    "name": "ipython",
    "version": 3
   },
   "file_extension": ".py",
   "mimetype": "text/x-python",
   "name": "python",
   "nbconvert_exporter": "python",
   "pygments_lexer": "ipython3",
   "version": "3.12.7"
  }
 },
 "nbformat": 4,
 "nbformat_minor": 5
}
