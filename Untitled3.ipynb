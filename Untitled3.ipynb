{
 "cells": [
  {
   "cell_type": "markdown",
   "id": "f0b3318b-54a1-483c-89d3-75d9190723c0",
   "metadata": {},
   "source": [
    "python operaters"
   ]
  },
  {
   "cell_type": "code",
   "execution_count": null,
   "id": "d5991904-8e2d-4876-a5cb-e791fc4b48fa",
   "metadata": {},
   "outputs": [],
   "source": [
    "#python operaters are 5 there are----->"
   ]
  },
  {
   "cell_type": "code",
   "execution_count": null,
   "id": "71a61ff8-8580-4f1e-8002-a0d7e87c1cbe",
   "metadata": {},
   "outputs": [],
   "source": [
    "*Arthematic operater\n",
    "*Assignment operater\n",
    "*Relational operater\n",
    "*Logical operater\n",
    "*Unary operater"
   ]
  },
  {
   "cell_type": "markdown",
   "id": "4a05eb16-dbb5-4c55-b565-b2b9340764e0",
   "metadata": {},
   "source": [
    "Arthematic operater"
   ]
  },
  {
   "cell_type": "code",
   "execution_count": null,
   "id": "1504648c-20ef-481b-941d-7f5c3c73c806",
   "metadata": {},
   "outputs": [],
   "source": [
    "arthematic operaters are +,-,*,/,//,**"
   ]
  },
  {
   "cell_type": "code",
   "execution_count": null,
   "id": "f5a961d3-1492-418c-918e-60f33fd63006",
   "metadata": {},
   "outputs": [],
   "source": [
    "x,y=8,9"
   ]
  },
  {
   "cell_type": "code",
   "execution_count": 3,
   "id": "0e2abb55-6e77-4bb5-aabe-d2e96eeec59c",
   "metadata": {},
   "outputs": [
    {
     "data": {
      "text/plain": [
       "17"
      ]
     },
     "execution_count": 3,
     "metadata": {},
     "output_type": "execute_result"
    }
   ],
   "source": [
    "x=8\n",
    "y=9\n",
    "x+y\n"
   ]
  },
  {
   "cell_type": "code",
   "execution_count": 4,
   "id": "ab0a56d3-9868-4fe6-a581-5467fececd33",
   "metadata": {},
   "outputs": [
    {
     "data": {
      "text/plain": [
       "-1"
      ]
     },
     "execution_count": 4,
     "metadata": {},
     "output_type": "execute_result"
    }
   ],
   "source": [
    "x-y"
   ]
  },
  {
   "cell_type": "code",
   "execution_count": 5,
   "id": "fa23e5e9-8462-4dc4-9a4a-5fbf95f16c73",
   "metadata": {},
   "outputs": [
    {
     "data": {
      "text/plain": [
       "1"
      ]
     },
     "execution_count": 5,
     "metadata": {},
     "output_type": "execute_result"
    }
   ],
   "source": [
    "y-x"
   ]
  },
  {
   "cell_type": "code",
   "execution_count": 6,
   "id": "016f0f4f-07c0-403c-b498-c3052b2680f1",
   "metadata": {},
   "outputs": [
    {
     "data": {
      "text/plain": [
       "72"
      ]
     },
     "execution_count": 6,
     "metadata": {},
     "output_type": "execute_result"
    }
   ],
   "source": [
    "x*y"
   ]
  },
  {
   "cell_type": "code",
   "execution_count": 7,
   "id": "7a39e62d-efeb-48b6-94ae-89bbcbcc2900",
   "metadata": {},
   "outputs": [
    {
     "data": {
      "text/plain": [
       "134217728"
      ]
     },
     "execution_count": 7,
     "metadata": {},
     "output_type": "execute_result"
    }
   ],
   "source": [
    "x**y"
   ]
  },
  {
   "cell_type": "code",
   "execution_count": 12,
   "id": "982865a3-46db-45d5-8d71-4a055df8f56c",
   "metadata": {},
   "outputs": [
    {
     "data": {
      "text/plain": [
       "8"
      ]
     },
     "execution_count": 12,
     "metadata": {},
     "output_type": "execute_result"
    }
   ],
   "source": [
    "x%y"
   ]
  },
  {
   "cell_type": "code",
   "execution_count": 13,
   "id": "8117f0b3-3d3b-48d5-87cb-ab39358d4b0f",
   "metadata": {},
   "outputs": [
    {
     "data": {
      "text/plain": [
       "0.8888888888888888"
      ]
     },
     "execution_count": 13,
     "metadata": {},
     "output_type": "execute_result"
    }
   ],
   "source": [
    "x/y"
   ]
  },
  {
   "cell_type": "code",
   "execution_count": 14,
   "id": "a183faff-cb5c-4258-bad8-e79a6e0d1ab9",
   "metadata": {},
   "outputs": [
    {
     "data": {
      "text/plain": [
       "0"
      ]
     },
     "execution_count": 14,
     "metadata": {},
     "output_type": "execute_result"
    }
   ],
   "source": [
    "x//y"
   ]
  },
  {
   "cell_type": "code",
   "execution_count": 17,
   "id": "1b8ecce5-79f9-49d2-b3c5-2863b2312467",
   "metadata": {},
   "outputs": [
    {
     "data": {
      "text/plain": [
       "100000"
      ]
     },
     "execution_count": 17,
     "metadata": {},
     "output_type": "execute_result"
    }
   ],
   "source": [
    "10**5"
   ]
  },
  {
   "cell_type": "markdown",
   "id": "40eef1bf-4732-4f4d-b05d-d50839ab61b8",
   "metadata": {},
   "source": [
    "Assignment operater"
   ]
  },
  {
   "cell_type": "code",
   "execution_count": null,
   "id": "f33dcce4-cb61-44f9-9ad0-3741b68b27dc",
   "metadata": {},
   "outputs": [],
   "source": [
    "=,+=,-=,*=,/=,=!"
   ]
  },
  {
   "cell_type": "code",
   "execution_count": 18,
   "id": "09903697-f520-4805-8292-9a34f0ebab89",
   "metadata": {},
   "outputs": [],
   "source": [
    "x=5"
   ]
  },
  {
   "cell_type": "code",
   "execution_count": 20,
   "id": "1b60ee66-239a-4beb-9089-bd04861dd5b5",
   "metadata": {},
   "outputs": [
    {
     "data": {
      "text/plain": [
       "9"
      ]
     },
     "execution_count": 20,
     "metadata": {},
     "output_type": "execute_result"
    }
   ],
   "source": [
    "x=x+2\n",
    "x"
   ]
  },
  {
   "cell_type": "code",
   "execution_count": 21,
   "id": "2becb1fc-d4be-4234-8428-e54dd6faf4d2",
   "metadata": {},
   "outputs": [
    {
     "data": {
      "text/plain": [
       "4"
      ]
     },
     "execution_count": 21,
     "metadata": {},
     "output_type": "execute_result"
    }
   ],
   "source": [
    "x=x-5\n",
    "x"
   ]
  },
  {
   "cell_type": "code",
   "execution_count": 22,
   "id": "c805964a-d0d9-405d-8115-e5291c0a6db1",
   "metadata": {},
   "outputs": [
    {
     "data": {
      "text/plain": [
       "6"
      ]
     },
     "execution_count": 22,
     "metadata": {},
     "output_type": "execute_result"
    }
   ],
   "source": [
    "x+=2\n",
    "x"
   ]
  },
  {
   "cell_type": "code",
   "execution_count": 23,
   "id": "7549cdb1-cabc-4328-88e5-6b994bf524a1",
   "metadata": {},
   "outputs": [
    {
     "data": {
      "text/plain": [
       "4"
      ]
     },
     "execution_count": 23,
     "metadata": {},
     "output_type": "execute_result"
    }
   ],
   "source": [
    "x-=2\n",
    "x"
   ]
  },
  {
   "cell_type": "code",
   "execution_count": 24,
   "id": "e7f16129-a5ce-40db-a2ab-09a71734c9ab",
   "metadata": {},
   "outputs": [
    {
     "data": {
      "text/plain": [
       "0.8"
      ]
     },
     "execution_count": 24,
     "metadata": {},
     "output_type": "execute_result"
    }
   ],
   "source": [
    "x/=5\n",
    "x"
   ]
  },
  {
   "cell_type": "code",
   "execution_count": 26,
   "id": "52367121-6b70-402e-860e-8355a1f218c1",
   "metadata": {},
   "outputs": [
    {
     "data": {
      "text/plain": [
       "0.0"
      ]
     },
     "execution_count": 26,
     "metadata": {},
     "output_type": "execute_result"
    }
   ],
   "source": [
    "x//=5\n",
    "x"
   ]
  },
  {
   "cell_type": "code",
   "execution_count": 28,
   "id": "6583b9e6-843d-4ec1-870a-b6ceaa1989b4",
   "metadata": {},
   "outputs": [
    {
     "data": {
      "text/plain": [
       "0.0"
      ]
     },
     "execution_count": 28,
     "metadata": {},
     "output_type": "execute_result"
    }
   ],
   "source": [
    "x//=2\n",
    "x"
   ]
  },
  {
   "cell_type": "markdown",
   "id": "85626971-670a-4f06-9c58-6fc2c196b8b1",
   "metadata": {},
   "source": [
    "Relational operator"
   ]
  },
  {
   "cell_type": "code",
   "execution_count": null,
   "id": "2b77c5f2-7760-49a4-8b8c-317f09f2b768",
   "metadata": {},
   "outputs": [],
   "source": [
    "#this operater is using for compering (><,>=,<=,==,!=)"
   ]
  },
  {
   "cell_type": "code",
   "execution_count": 29,
   "id": "92673296-a276-454a-8dad-043e96bee9da",
   "metadata": {},
   "outputs": [],
   "source": [
    "a=2\n",
    "b=4"
   ]
  },
  {
   "cell_type": "code",
   "execution_count": 30,
   "id": "b7e38ac0-c36a-4569-9b35-9b7c9ef135db",
   "metadata": {},
   "outputs": [
    {
     "data": {
      "text/plain": [
       "True"
      ]
     },
     "execution_count": 30,
     "metadata": {},
     "output_type": "execute_result"
    }
   ],
   "source": [
    "a<b"
   ]
  },
  {
   "cell_type": "code",
   "execution_count": 31,
   "id": "7658a1bb-d130-4868-8989-2a3203728c46",
   "metadata": {},
   "outputs": [
    {
     "data": {
      "text/plain": [
       "False"
      ]
     },
     "execution_count": 31,
     "metadata": {},
     "output_type": "execute_result"
    }
   ],
   "source": [
    "a>b"
   ]
  },
  {
   "cell_type": "code",
   "execution_count": 32,
   "id": "e895a965-1017-41e4-abe4-83ca5c4f7211",
   "metadata": {},
   "outputs": [
    {
     "data": {
      "text/plain": [
       "False"
      ]
     },
     "execution_count": 32,
     "metadata": {},
     "output_type": "execute_result"
    }
   ],
   "source": [
    "a>=b"
   ]
  },
  {
   "cell_type": "code",
   "execution_count": 34,
   "id": "c82e5355-422d-47e7-8403-5e836213c0e8",
   "metadata": {},
   "outputs": [
    {
     "data": {
      "text/plain": [
       "True"
      ]
     },
     "execution_count": 34,
     "metadata": {},
     "output_type": "execute_result"
    }
   ],
   "source": [
    "a<=b"
   ]
  },
  {
   "cell_type": "code",
   "execution_count": 35,
   "id": "c6e79ca7-e484-4ddd-989b-434bbed6c45a",
   "metadata": {},
   "outputs": [
    {
     "data": {
      "text/plain": [
       "False"
      ]
     },
     "execution_count": 35,
     "metadata": {},
     "output_type": "execute_result"
    }
   ],
   "source": [
    "a==b"
   ]
  },
  {
   "cell_type": "code",
   "execution_count": 36,
   "id": "3db7e2b0-05b5-4134-880f-2451f9f91dc9",
   "metadata": {},
   "outputs": [
    {
     "data": {
      "text/plain": [
       "True"
      ]
     },
     "execution_count": 36,
     "metadata": {},
     "output_type": "execute_result"
    }
   ],
   "source": [
    "a!=b"
   ]
  },
  {
   "cell_type": "code",
   "execution_count": 37,
   "id": "92125c78-2823-404d-85c3-d8be3bfaf7c4",
   "metadata": {},
   "outputs": [],
   "source": [
    "a=3\n",
    "b=3"
   ]
  },
  {
   "cell_type": "code",
   "execution_count": 38,
   "id": "dbabdd57-868a-42d0-8911-54dce8413378",
   "metadata": {},
   "outputs": [
    {
     "data": {
      "text/plain": [
       "True"
      ]
     },
     "execution_count": 38,
     "metadata": {},
     "output_type": "execute_result"
    }
   ],
   "source": [
    "a<=b"
   ]
  },
  {
   "cell_type": "code",
   "execution_count": 39,
   "id": "f53e126c-12e3-426d-ad1b-9608f87316c8",
   "metadata": {},
   "outputs": [
    {
     "data": {
      "text/plain": [
       "True"
      ]
     },
     "execution_count": 39,
     "metadata": {},
     "output_type": "execute_result"
    }
   ],
   "source": [
    "a>=b"
   ]
  },
  {
   "cell_type": "code",
   "execution_count": 40,
   "id": "fb3933bc-35e2-44a6-88b0-c021ea169883",
   "metadata": {},
   "outputs": [
    {
     "data": {
      "text/plain": [
       "True"
      ]
     },
     "execution_count": 40,
     "metadata": {},
     "output_type": "execute_result"
    }
   ],
   "source": [
    "a==b"
   ]
  },
  {
   "cell_type": "code",
   "execution_count": 41,
   "id": "25fe3293-b4d0-45de-a9b0-2a8b4fd775fb",
   "metadata": {},
   "outputs": [
    {
     "data": {
      "text/plain": [
       "False"
      ]
     },
     "execution_count": 41,
     "metadata": {},
     "output_type": "execute_result"
    }
   ],
   "source": [
    "a!=b"
   ]
  },
  {
   "cell_type": "markdown",
   "id": "e430b96b-0524-43f0-8066-d9ddb7497bae",
   "metadata": {},
   "source": [
    "Logical operater"
   ]
  },
  {
   "cell_type": "code",
   "execution_count": null,
   "id": "c8bdf394-e6e3-4a3c-9259-1b0452d7ee72",
   "metadata": {},
   "outputs": [],
   "source": [
    "#AND,OR,NOT"
   ]
  },
  {
   "cell_type": "code",
   "execution_count": null,
   "id": "667216c5-54d7-4888-ba5c-85e2c252fa3e",
   "metadata": {},
   "outputs": [],
   "source": [
    "X|Y|XY|     \n",
    "------\n",
    "0 0 0\n",
    "0 1 0\n",
    "1 0 0\n",
    "1 1 1"
   ]
  },
  {
   "cell_type": "code",
   "execution_count": 42,
   "id": "60445ee0-ebb7-4876-bb4c-9d103759bc75",
   "metadata": {},
   "outputs": [],
   "source": [
    "a=5\n",
    "b=4"
   ]
  },
  {
   "cell_type": "code",
   "execution_count": 43,
   "id": "597f95a3-a948-443f-810c-042d11f82807",
   "metadata": {},
   "outputs": [
    {
     "data": {
      "text/plain": [
       "False"
      ]
     },
     "execution_count": 43,
     "metadata": {},
     "output_type": "execute_result"
    }
   ],
   "source": [
    "a<b"
   ]
  },
  {
   "cell_type": "code",
   "execution_count": 44,
   "id": "d91004fb-bb5a-4948-b27c-a78612a86fa6",
   "metadata": {},
   "outputs": [
    {
     "data": {
      "text/plain": [
       "True"
      ]
     },
     "execution_count": 44,
     "metadata": {},
     "output_type": "execute_result"
    }
   ],
   "source": [
    "a<8"
   ]
  },
  {
   "cell_type": "code",
   "execution_count": 45,
   "id": "8eea99ca-ff7a-46b0-9c0e-ab311cba961f",
   "metadata": {},
   "outputs": [
    {
     "data": {
      "text/plain": [
       "True"
      ]
     },
     "execution_count": 45,
     "metadata": {},
     "output_type": "execute_result"
    }
   ],
   "source": [
    "a>4"
   ]
  },
  {
   "cell_type": "code",
   "execution_count": 46,
   "id": "2317caeb-a55a-4d5b-9ccf-3ec4618aeb5a",
   "metadata": {},
   "outputs": [
    {
     "data": {
      "text/plain": [
       "False"
      ]
     },
     "execution_count": 46,
     "metadata": {},
     "output_type": "execute_result"
    }
   ],
   "source": [
    "a<9 and a<3"
   ]
  },
  {
   "cell_type": "markdown",
   "id": "6003d412-3d2d-4a22-babf-0da5623a2b0f",
   "metadata": {},
   "source": [
    "Unary operater"
   ]
  },
  {
   "cell_type": "code",
   "execution_count": null,
   "id": "5ce95859-19e3-4394-9062-3073de417f26",
   "metadata": {},
   "outputs": [],
   "source": [
    "#unary means 1\n",
    "#only one argument is allowed"
   ]
  },
  {
   "cell_type": "code",
   "execution_count": null,
   "id": "82695315-053d-4d7b-8e21-398ad45dcc31",
   "metadata": {},
   "outputs": [],
   "source": [
    "x1=4"
   ]
  },
  {
   "cell_type": "code",
   "execution_count": null,
   "id": "130fba6d-c8fe-4501-9dfc-42f526f569a1",
   "metadata": {},
   "outputs": [],
   "source": [
    "x2=6"
   ]
  },
  {
   "cell_type": "code",
   "execution_count": null,
   "id": "829949f5-4f25-409e-a2ce-2019de78924b",
   "metadata": {},
   "outputs": [],
   "source": [
    "y1=6"
   ]
  }
 ],
 "metadata": {
  "kernelspec": {
   "display_name": "Python 3 (ipykernel)",
   "language": "python",
   "name": "python3"
  },
  "language_info": {
   "codemirror_mode": {
    "name": "ipython",
    "version": 3
   },
   "file_extension": ".py",
   "mimetype": "text/x-python",
   "name": "python",
   "nbconvert_exporter": "python",
   "pygments_lexer": "ipython3",
   "version": "3.12.7"
  }
 },
 "nbformat": 4,
 "nbformat_minor": 5
}
