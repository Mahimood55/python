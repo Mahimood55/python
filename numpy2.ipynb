{
 "cells": [
  {
   "cell_type": "code",
   "execution_count": 5,
   "id": "6020133e-277c-435d-9326-cd433160f223",
   "metadata": {},
   "outputs": [],
   "source": [
    "import numpy as np"
   ]
  },
  {
   "cell_type": "code",
   "execution_count": 6,
   "id": "65d2ec8d-ccad-4817-b0ed-209c08d4ca05",
   "metadata": {},
   "outputs": [
    {
     "data": {
      "text/plain": [
       "[0, 1, 2, 3, 4, 5]"
      ]
     },
     "execution_count": 6,
     "metadata": {},
     "output_type": "execute_result"
    }
   ],
   "source": [
    "list=[0,1,2,3,4,5]\n",
    "list"
   ]
  },
  {
   "cell_type": "code",
   "execution_count": 7,
   "id": "b57ce3b5-5c07-463d-b180-feac48dfc71c",
   "metadata": {},
   "outputs": [
    {
     "data": {
      "text/plain": [
       "list"
      ]
     },
     "execution_count": 7,
     "metadata": {},
     "output_type": "execute_result"
    }
   ],
   "source": [
    "type(list)"
   ]
  },
  {
   "cell_type": "code",
   "execution_count": 8,
   "id": "25137502-44a9-4e69-8764-b40a27fcabe4",
   "metadata": {},
   "outputs": [
    {
     "data": {
      "text/plain": [
       "array([0, 1, 2, 3, 4, 5])"
      ]
     },
     "execution_count": 8,
     "metadata": {},
     "output_type": "execute_result"
    }
   ],
   "source": [
    "arr=np.array(list)\n",
    "arr"
   ]
  },
  {
   "cell_type": "code",
   "execution_count": 9,
   "id": "e54c449b-2832-4b3d-bf80-11be70fb3908",
   "metadata": {},
   "outputs": [
    {
     "data": {
      "text/plain": [
       "numpy.ndarray"
      ]
     },
     "execution_count": 9,
     "metadata": {},
     "output_type": "execute_result"
    }
   ],
   "source": [
    "type(arr)"
   ]
  },
  {
   "cell_type": "code",
   "execution_count": 11,
   "id": "bc085998-190e-4194-ac9a-22c4ac036b01",
   "metadata": {},
   "outputs": [
    {
     "data": {
      "text/plain": [
       "<module 'numpy.random' from 'C:\\\\Users\\\\Shaik Mahimood\\\\anaconda3\\\\Lib\\\\site-packages\\\\numpy\\\\random\\\\__init__.py'>"
      ]
     },
     "execution_count": 11,
     "metadata": {},
     "output_type": "execute_result"
    }
   ],
   "source": [
    "np.random"
   ]
  },
  {
   "cell_type": "code",
   "execution_count": 12,
   "id": "09b8e170-e28f-45c0-9c61-dfe4fa378af1",
   "metadata": {},
   "outputs": [
    {
     "data": {
      "text/plain": [
       "array([0.41660441, 0.22242239, 0.9815024 , 0.60200442])"
      ]
     },
     "execution_count": 12,
     "metadata": {},
     "output_type": "execute_result"
    }
   ],
   "source": [
    "np.random.rand(4)"
   ]
  },
  {
   "cell_type": "code",
   "execution_count": 13,
   "id": "ca3fe82d-fc9d-480b-9223-58c423e03d2d",
   "metadata": {},
   "outputs": [
    {
     "data": {
      "text/plain": [
       "array([[0.57161192, 0.5422038 , 0.01849815, 0.7881564 ],\n",
       "       [0.00848523, 0.22507129, 0.80713989, 0.99299224]])"
      ]
     },
     "execution_count": 13,
     "metadata": {},
     "output_type": "execute_result"
    }
   ],
   "source": [
    "np.random.rand(2,4)"
   ]
  },
  {
   "cell_type": "code",
   "execution_count": 14,
   "id": "79b7e411-d9e0-43c4-963f-768df3c9dd8d",
   "metadata": {},
   "outputs": [
    {
     "data": {
      "text/plain": [
       "array([[0.24076214, 0.22481098, 0.08374881, 0.01497639, 0.91491814]])"
      ]
     },
     "execution_count": 14,
     "metadata": {},
     "output_type": "execute_result"
    }
   ],
   "source": [
    "np.random.rand(1,5)"
   ]
  },
  {
   "cell_type": "code",
   "execution_count": 15,
   "id": "a0b5cba5-b393-401b-8c21-5e0611978302",
   "metadata": {},
   "outputs": [
    {
     "data": {
      "text/plain": [
       "array([[0.19222769, 0.64714738, 0.63496305, 0.69027973, 0.39387441,\n",
       "        0.63318256, 0.37618206, 0.20144109, 0.37261508],\n",
       "       [0.4344263 , 0.75309411, 0.1872971 , 0.24675683, 0.45571417,\n",
       "        0.89062426, 0.11975828, 0.13734754, 0.11671061],\n",
       "       [0.16373386, 0.64180742, 0.55785694, 0.23273402, 0.26103828,\n",
       "        0.03195488, 0.05597532, 0.79828506, 0.0173754 ],\n",
       "       [0.21008514, 0.40542398, 0.64916341, 0.01225627, 0.95939843,\n",
       "        0.67122196, 0.7486371 , 0.00891838, 0.53701043],\n",
       "       [0.39795088, 0.85614622, 0.16346943, 0.96804369, 0.87337456,\n",
       "        0.13322419, 0.36948135, 0.61983229, 0.7967681 ],\n",
       "       [0.87338943, 0.83687907, 0.26014483, 0.00965077, 0.61591816,\n",
       "        0.32207441, 0.84589214, 0.21684457, 0.34642933],\n",
       "       [0.07570616, 0.87449223, 0.75158299, 0.18445478, 0.76300071,\n",
       "        0.66934561, 0.79241864, 0.93961381, 0.95153899],\n",
       "       [0.55992085, 0.88317239, 0.69479639, 0.51976199, 0.34444494,\n",
       "        0.00414102, 0.97249212, 0.35876786, 0.12313423]])"
      ]
     },
     "execution_count": 15,
     "metadata": {},
     "output_type": "execute_result"
    }
   ],
   "source": [
    "np.random.rand(8,9)"
   ]
  },
  {
   "cell_type": "code",
   "execution_count": 19,
   "id": "5a502043-efa1-4b71-8e40-6dc6a6f8c05a",
   "metadata": {},
   "outputs": [
    {
     "data": {
      "text/plain": [
       "11"
      ]
     },
     "execution_count": 19,
     "metadata": {},
     "output_type": "execute_result"
    }
   ],
   "source": [
    "np.random.randint(2,20)"
   ]
  },
  {
   "cell_type": "code",
   "execution_count": 20,
   "id": "8cdd2f1e-7f3d-4010-bb43-97d0b163c4c8",
   "metadata": {},
   "outputs": [
    {
     "data": {
      "text/plain": [
       "74"
      ]
     },
     "execution_count": 20,
     "metadata": {},
     "output_type": "execute_result"
    }
   ],
   "source": [
    "np.random.randint(5,88)"
   ]
  },
  {
   "cell_type": "code",
   "execution_count": 22,
   "id": "e9101348-1963-42d6-820b-90299cca36f1",
   "metadata": {},
   "outputs": [
    {
     "data": {
      "text/plain": [
       "55"
      ]
     },
     "execution_count": 22,
     "metadata": {},
     "output_type": "execute_result"
    }
   ],
   "source": [
    "np.random.randint(55,56)"
   ]
  },
  {
   "cell_type": "code",
   "execution_count": 24,
   "id": "3b261852-46c4-448a-ab7b-9b738dabf361",
   "metadata": {},
   "outputs": [
    {
     "data": {
      "text/plain": [
       "array([6, 5, 1])"
      ]
     },
     "execution_count": 24,
     "metadata": {},
     "output_type": "execute_result"
    }
   ],
   "source": [
    "np.random.randint(1,10,3)"
   ]
  },
  {
   "cell_type": "code",
   "execution_count": 25,
   "id": "dac56676-e5bc-43a0-90ad-f134b54f1215",
   "metadata": {},
   "outputs": [
    {
     "data": {
      "text/plain": [
       "array([18, 17, 14,  8, 15, 18])"
      ]
     },
     "execution_count": 25,
     "metadata": {},
     "output_type": "execute_result"
    }
   ],
   "source": [
    "np.random.randint(1,20,6)"
   ]
  },
  {
   "cell_type": "code",
   "execution_count": 26,
   "id": "f10a70ff-6d98-438c-83ae-5463db556265",
   "metadata": {},
   "outputs": [
    {
     "data": {
      "text/plain": [
       "array([16, 12, 16, 21, 23, 13, 25])"
      ]
     },
     "execution_count": 26,
     "metadata": {},
     "output_type": "execute_result"
    }
   ],
   "source": [
    "np.random.randint(10,30,7)"
   ]
  },
  {
   "cell_type": "code",
   "execution_count": 27,
   "id": "5c99075a-b304-49d3-a8a4-d102bcf2109d",
   "metadata": {},
   "outputs": [
    {
     "data": {
      "text/plain": [
       "array([ 1, 10,  8,  2,  4,  9,  6,  7,  2,  4])"
      ]
     },
     "execution_count": 27,
     "metadata": {},
     "output_type": "execute_result"
    }
   ],
   "source": [
    "np.random.randint(1,12,10)"
   ]
  },
  {
   "cell_type": "code",
   "execution_count": 28,
   "id": "534f10a6-2630-4550-933a-23ca3d801686",
   "metadata": {},
   "outputs": [
    {
     "data": {
      "text/plain": [
       "array([1, 3, 1, 2, 3, 3])"
      ]
     },
     "execution_count": 28,
     "metadata": {},
     "output_type": "execute_result"
    }
   ],
   "source": [
    "np.random.randint(1,5,6)"
   ]
  },
  {
   "cell_type": "code",
   "execution_count": 30,
   "id": "49676d21-e7c3-4caf-a1be-dce38733027c",
   "metadata": {},
   "outputs": [
    {
     "data": {
      "text/plain": [
       "array([[ 9,  4,  2, 15, 11],\n",
       "       [11, 17, 11, 15, 10],\n",
       "       [14, 16, 10,  9, 16],\n",
       "       [15, 14,  8,  9, 12],\n",
       "       [ 2, 19,  7, 16, 16]])"
      ]
     },
     "execution_count": 30,
     "metadata": {},
     "output_type": "execute_result"
    }
   ],
   "source": [
    "np.random.randint(1,20,(5,5))"
   ]
  },
  {
   "cell_type": "code",
   "execution_count": 31,
   "id": "ae72b4e8-f9ea-4b38-8716-5e7a59595f12",
   "metadata": {},
   "outputs": [
    {
     "data": {
      "text/plain": [
       "array([[20, 11, 16, 22, 11, 12, 13],\n",
       "       [20, 24, 17, 18, 10, 20, 19],\n",
       "       [19, 19, 12, 21, 19, 18, 16],\n",
       "       [21, 17, 23, 23, 22, 14, 23],\n",
       "       [15, 24, 24, 21, 16, 11, 19],\n",
       "       [15, 23, 18, 21, 21, 10, 13]])"
      ]
     },
     "execution_count": 31,
     "metadata": {},
     "output_type": "execute_result"
    }
   ],
   "source": [
    "np.random.randint(10,25,(6,7))"
   ]
  },
  {
   "cell_type": "code",
   "execution_count": 34,
   "id": "f51f99cc-138b-4f86-9f21-e763f0d79544",
   "metadata": {},
   "outputs": [
    {
     "data": {
      "text/plain": [
       "array([[18, 11, 13, 11],\n",
       "       [15, 14, 14, 15],\n",
       "       [18, 15, 11, 17],\n",
       "       [19, 16, 17, 12],\n",
       "       [17, 11, 13, 16]])"
      ]
     },
     "execution_count": 34,
     "metadata": {},
     "output_type": "execute_result"
    }
   ],
   "source": [
    "b=np.random.randint(10,20,(5,4))\n",
    "b"
   ]
  },
  {
   "cell_type": "code",
   "execution_count": 35,
   "id": "d4ac46a0-9c05-4af5-a8e8-410f17251faa",
   "metadata": {},
   "outputs": [
    {
     "data": {
      "text/plain": [
       "array([[18, 11, 13, 11],\n",
       "       [15, 14, 14, 15],\n",
       "       [18, 15, 11, 17],\n",
       "       [19, 16, 17, 12],\n",
       "       [17, 11, 13, 16]])"
      ]
     },
     "execution_count": 35,
     "metadata": {},
     "output_type": "execute_result"
    }
   ],
   "source": [
    "b[:]"
   ]
  },
  {
   "cell_type": "code",
   "execution_count": 36,
   "id": "8bb36504-adfa-4c5d-9f2e-3dda48ca5d0a",
   "metadata": {},
   "outputs": [
    {
     "data": {
      "text/plain": [
       "array([[18, 11, 13, 11],\n",
       "       [15, 14, 14, 15]])"
      ]
     },
     "execution_count": 36,
     "metadata": {},
     "output_type": "execute_result"
    }
   ],
   "source": [
    "b[0:2]"
   ]
  },
  {
   "cell_type": "code",
   "execution_count": 37,
   "id": "4f324308-59ff-485c-baac-895b8757a1e3",
   "metadata": {},
   "outputs": [
    {
     "data": {
      "text/plain": [
       "array([[18, 11, 13, 11],\n",
       "       [15, 14, 14, 15]])"
      ]
     },
     "execution_count": 37,
     "metadata": {},
     "output_type": "execute_result"
    }
   ],
   "source": [
    "b[:2]"
   ]
  },
  {
   "cell_type": "code",
   "execution_count": 38,
   "id": "169d3b7d-1d36-47ce-b39f-ddfadd243040",
   "metadata": {},
   "outputs": [
    {
     "data": {
      "text/plain": [
       "array([[18, 15, 11, 17],\n",
       "       [19, 16, 17, 12],\n",
       "       [17, 11, 13, 16]])"
      ]
     },
     "execution_count": 38,
     "metadata": {},
     "output_type": "execute_result"
    }
   ],
   "source": [
    "b[2:]"
   ]
  },
  {
   "cell_type": "code",
   "execution_count": 39,
   "id": "346593b8-172b-4018-9828-00f625101d45",
   "metadata": {},
   "outputs": [
    {
     "data": {
      "text/plain": [
       "array([[18, 15, 11, 17],\n",
       "       [19, 16, 17, 12]])"
      ]
     },
     "execution_count": 39,
     "metadata": {},
     "output_type": "execute_result"
    }
   ],
   "source": [
    "b[2:4]"
   ]
  },
  {
   "cell_type": "code",
   "execution_count": 40,
   "id": "2849e6ba-a189-402f-9914-3309cb280ff0",
   "metadata": {},
   "outputs": [
    {
     "data": {
      "text/plain": [
       "array([[18, 11, 13, 11],\n",
       "       [15, 14, 14, 15],\n",
       "       [18, 15, 11, 17],\n",
       "       [19, 16, 17, 12]])"
      ]
     },
     "execution_count": 40,
     "metadata": {},
     "output_type": "execute_result"
    }
   ],
   "source": [
    "b[:-1]"
   ]
  },
  {
   "cell_type": "code",
   "execution_count": 41,
   "id": "f99fc036-f866-405d-bf6e-a98b1366bd4a",
   "metadata": {},
   "outputs": [
    {
     "data": {
      "text/plain": [
       "array([[18, 11, 13, 11],\n",
       "       [15, 14, 14, 15],\n",
       "       [18, 15, 11, 17]])"
      ]
     },
     "execution_count": 41,
     "metadata": {},
     "output_type": "execute_result"
    }
   ],
   "source": [
    "b[:-2]"
   ]
  },
  {
   "cell_type": "code",
   "execution_count": 42,
   "id": "88a27f64-4a5d-49b8-b6fe-cf73bfa39800",
   "metadata": {},
   "outputs": [
    {
     "data": {
      "text/plain": [
       "array([[18, 11, 13, 11],\n",
       "       [15, 14, 14, 15]])"
      ]
     },
     "execution_count": 42,
     "metadata": {},
     "output_type": "execute_result"
    }
   ],
   "source": [
    "b[:-3]"
   ]
  },
  {
   "cell_type": "code",
   "execution_count": 45,
   "id": "e8c5c587-33a7-45d8-a057-eabb133f65ac",
   "metadata": {},
   "outputs": [
    {
     "data": {
      "text/plain": [
       "array([[17, 11, 13, 16],\n",
       "       [19, 16, 17, 12],\n",
       "       [18, 15, 11, 17],\n",
       "       [15, 14, 14, 15],\n",
       "       [18, 11, 13, 11]])"
      ]
     },
     "execution_count": 45,
     "metadata": {},
     "output_type": "execute_result"
    }
   ],
   "source": [
    "b[::-1]"
   ]
  },
  {
   "cell_type": "code",
   "execution_count": 52,
   "id": "eb2d16ed-0e95-40d9-91ca-dfaab9146387",
   "metadata": {},
   "outputs": [
    {
     "data": {
      "text/plain": [
       "array([[18, 11, 13, 11],\n",
       "       [18, 15, 11, 17],\n",
       "       [17, 11, 13, 16]])"
      ]
     },
     "execution_count": 52,
     "metadata": {},
     "output_type": "execute_result"
    }
   ],
   "source": [
    "b[::2]"
   ]
  },
  {
   "cell_type": "code",
   "execution_count": 51,
   "id": "77a128de-d784-46ea-af04-310a60666de3",
   "metadata": {},
   "outputs": [
    {
     "data": {
      "text/plain": [
       "array([[18, 11, 13, 11],\n",
       "       [19, 16, 17, 12]])"
      ]
     },
     "execution_count": 51,
     "metadata": {},
     "output_type": "execute_result"
    }
   ],
   "source": [
    "b[::3]"
   ]
  },
  {
   "cell_type": "code",
   "execution_count": 54,
   "id": "4dd28544-53d4-41fc-83a3-aaa1cba8b879",
   "metadata": {},
   "outputs": [
    {
     "data": {
      "text/plain": [
       "array([[18, 11, 13, 11],\n",
       "       [15, 14, 14, 15],\n",
       "       [18, 15, 11, 17],\n",
       "       [19, 16, 17, 12],\n",
       "       [17, 11, 13, 16]])"
      ]
     },
     "execution_count": 54,
     "metadata": {},
     "output_type": "execute_result"
    }
   ],
   "source": [
    "b"
   ]
  },
  {
   "cell_type": "code",
   "execution_count": 55,
   "id": "58349596-4e4f-4979-83f3-2fedc6c10b43",
   "metadata": {},
   "outputs": [
    {
     "data": {
      "text/plain": [
       "13"
      ]
     },
     "execution_count": 55,
     "metadata": {},
     "output_type": "execute_result"
    }
   ],
   "source": [
    "b[0,2]"
   ]
  },
  {
   "cell_type": "code",
   "execution_count": 57,
   "id": "199d397d-61bc-47cb-a4bb-57e21ae6d103",
   "metadata": {},
   "outputs": [
    {
     "data": {
      "text/plain": [
       "17"
      ]
     },
     "execution_count": 57,
     "metadata": {},
     "output_type": "execute_result"
    }
   ],
   "source": [
    "b[2,3]"
   ]
  },
  {
   "cell_type": "code",
   "execution_count": 58,
   "id": "07bf179e-0cdb-4222-91e2-1df81b88474f",
   "metadata": {},
   "outputs": [
    {
     "data": {
      "text/plain": [
       "16"
      ]
     },
     "execution_count": 58,
     "metadata": {},
     "output_type": "execute_result"
    }
   ],
   "source": [
    "b[-1,3]"
   ]
  },
  {
   "cell_type": "code",
   "execution_count": 60,
   "id": "c6e3e5aa-8426-41b4-8324-6750ed3f327f",
   "metadata": {},
   "outputs": [
    {
     "data": {
      "text/plain": [
       "16"
      ]
     },
     "execution_count": 60,
     "metadata": {},
     "output_type": "execute_result"
    }
   ],
   "source": [
    "b[-2,-3]"
   ]
  },
  {
   "cell_type": "code",
   "execution_count": 61,
   "id": "0515eb39-65cd-4122-9850-d74833e93b82",
   "metadata": {},
   "outputs": [
    {
     "data": {
      "text/plain": [
       "11"
      ]
     },
     "execution_count": 61,
     "metadata": {},
     "output_type": "execute_result"
    }
   ],
   "source": [
    "b[-3,2]"
   ]
  },
  {
   "cell_type": "code",
   "execution_count": 62,
   "id": "de03c694-cd98-48f6-99ec-f043ae237605",
   "metadata": {},
   "outputs": [
    {
     "data": {
      "text/plain": [
       "array([[18, 11, 13, 11],\n",
       "       [15, 14, 14, 15],\n",
       "       [18, 15, 11, 17]])"
      ]
     },
     "execution_count": 62,
     "metadata": {},
     "output_type": "execute_result"
    }
   ],
   "source": [
    "b[:3]"
   ]
  },
  {
   "cell_type": "code",
   "execution_count": 63,
   "id": "acbf8ef6-9cd4-4c04-aad0-07fa9e254ab8",
   "metadata": {},
   "outputs": [
    {
     "data": {
      "text/plain": [
       "array([[19, 16, 17, 12],\n",
       "       [17, 11, 13, 16]])"
      ]
     },
     "execution_count": 63,
     "metadata": {},
     "output_type": "execute_result"
    }
   ],
   "source": [
    "b[3:]"
   ]
  },
  {
   "cell_type": "code",
   "execution_count": null,
   "id": "963bd520-032b-498b-bdfb-d539357516f9",
   "metadata": {},
   "outputs": [],
   "source": []
  },
  {
   "cell_type": "code",
   "execution_count": 66,
   "id": "403b5f3d-f848-4c30-a062-2d73a2dbc124",
   "metadata": {},
   "outputs": [
    {
     "data": {
      "text/plain": [
       "array([[22, 22, 48, 70,  3, 37, 68, 57, 58, 66],\n",
       "       [22,  2, 32, 76, 45, 47, 63, 78,  1, 44],\n",
       "       [26, 63, 15, 73, 27, 62, 46, 32, 37, 43],\n",
       "       [35, 43, 72, 79, 56, 44, 26, 18, 56, 23],\n",
       "       [37, 67, 51,  5, 71, 30,  0, 58, 28, 61],\n",
       "       [54, 29,  3, 45, 62, 27, 78, 24, 21, 69],\n",
       "       [74, 62, 70, 29, 12, 68, 29, 70, 33, 63],\n",
       "       [47, 41, 56, 39, 46, 23, 69,  6, 71, 78],\n",
       "       [31,  8, 20, 52, 32, 12,  5, 54, 63, 53],\n",
       "       [65, 35, 62, 44, 23, 78, 22,  6, 52, 74]])"
      ]
     },
     "execution_count": 66,
     "metadata": {},
     "output_type": "execute_result"
    }
   ],
   "source": [
    "arr2=np.random.randint(0,80,(10,10))\n",
    "arr2"
   ]
  },
  {
   "cell_type": "code",
   "execution_count": 67,
   "id": "b8ea73f1-b1a8-4a7e-a166-1e9ca9867fd8",
   "metadata": {},
   "outputs": [
    {
     "data": {
      "text/plain": [
       "array([[22, 22, 48, 70,  3, 37, 68, 57, 58, 66],\n",
       "       [22,  2, 32, 76, 45, 47, 63, 78,  1, 44],\n",
       "       [26, 63, 15, 73, 27, 62, 46, 32, 37, 43],\n",
       "       [35, 43, 72, 79, 56, 44, 26, 18, 56, 23]])"
      ]
     },
     "execution_count": 67,
     "metadata": {},
     "output_type": "execute_result"
    }
   ],
   "source": [
    "arr2[:4]"
   ]
  },
  {
   "cell_type": "code",
   "execution_count": 68,
   "id": "25ab7ae0-bd0c-4f80-9d1b-c70c6b16b91a",
   "metadata": {},
   "outputs": [
    {
     "data": {
      "text/plain": [
       "array([[37, 67, 51,  5, 71, 30,  0, 58, 28, 61],\n",
       "       [54, 29,  3, 45, 62, 27, 78, 24, 21, 69],\n",
       "       [74, 62, 70, 29, 12, 68, 29, 70, 33, 63],\n",
       "       [47, 41, 56, 39, 46, 23, 69,  6, 71, 78],\n",
       "       [31,  8, 20, 52, 32, 12,  5, 54, 63, 53],\n",
       "       [65, 35, 62, 44, 23, 78, 22,  6, 52, 74]])"
      ]
     },
     "execution_count": 68,
     "metadata": {},
     "output_type": "execute_result"
    }
   ],
   "source": [
    "arr2[4:]"
   ]
  },
  {
   "cell_type": "code",
   "execution_count": 69,
   "id": "b5934b5a-349d-4643-8374-ebc4fc75e520",
   "metadata": {},
   "outputs": [
    {
     "data": {
      "text/plain": [
       "array([[22, 22, 48, 70,  3, 37, 68, 57, 58, 66],\n",
       "       [22,  2, 32, 76, 45, 47, 63, 78,  1, 44]])"
      ]
     },
     "execution_count": 69,
     "metadata": {},
     "output_type": "execute_result"
    }
   ],
   "source": [
    "arr2[0:2]"
   ]
  },
  {
   "cell_type": "code",
   "execution_count": 70,
   "id": "dd7a8086-5bc0-48d1-8dba-1b28ef158048",
   "metadata": {},
   "outputs": [
    {
     "data": {
      "text/plain": [
       "array([[22, 22, 48, 70,  3, 37, 68, 57, 58, 66],\n",
       "       [22,  2, 32, 76, 45, 47, 63, 78,  1, 44],\n",
       "       [26, 63, 15, 73, 27, 62, 46, 32, 37, 43],\n",
       "       [35, 43, 72, 79, 56, 44, 26, 18, 56, 23],\n",
       "       [37, 67, 51,  5, 71, 30,  0, 58, 28, 61],\n",
       "       [54, 29,  3, 45, 62, 27, 78, 24, 21, 69],\n",
       "       [74, 62, 70, 29, 12, 68, 29, 70, 33, 63]])"
      ]
     },
     "execution_count": 70,
     "metadata": {},
     "output_type": "execute_result"
    }
   ],
   "source": [
    "arr2[0:-3]"
   ]
  },
  {
   "cell_type": "code",
   "execution_count": 71,
   "id": "8fab3649-b29b-40f3-9d1a-3e8b69fcd028",
   "metadata": {},
   "outputs": [
    {
     "data": {
      "text/plain": [
       "array([[26, 63, 15, 73, 27, 62, 46, 32, 37, 43],\n",
       "       [35, 43, 72, 79, 56, 44, 26, 18, 56, 23],\n",
       "       [37, 67, 51,  5, 71, 30,  0, 58, 28, 61],\n",
       "       [54, 29,  3, 45, 62, 27, 78, 24, 21, 69]])"
      ]
     },
     "execution_count": 71,
     "metadata": {},
     "output_type": "execute_result"
    }
   ],
   "source": [
    "arr2[2:-4]"
   ]
  },
  {
   "cell_type": "code",
   "execution_count": 72,
   "id": "f6e6b877-1cf2-452c-868d-c3447acde52b",
   "metadata": {},
   "outputs": [
    {
     "data": {
      "text/plain": [
       "47"
      ]
     },
     "execution_count": 72,
     "metadata": {},
     "output_type": "execute_result"
    }
   ],
   "source": [
    "arr2[1,5]"
   ]
  },
  {
   "cell_type": "code",
   "execution_count": 73,
   "id": "f6a0ac35-474f-486c-b775-49962dbf95c8",
   "metadata": {},
   "outputs": [
    {
     "data": {
      "text/plain": [
       "26"
      ]
     },
     "execution_count": 73,
     "metadata": {},
     "output_type": "execute_result"
    }
   ],
   "source": [
    "arr2[3,6]"
   ]
  },
  {
   "cell_type": "code",
   "execution_count": 74,
   "id": "fb53f932-487e-478f-ada7-bcb6aee135ec",
   "metadata": {},
   "outputs": [
    {
     "data": {
      "text/plain": [
       "54"
      ]
     },
     "execution_count": 74,
     "metadata": {},
     "output_type": "execute_result"
    }
   ],
   "source": [
    "arr2[8,-3]"
   ]
  },
  {
   "cell_type": "code",
   "execution_count": 75,
   "id": "a58f4e9b-8b79-44a5-a3c4-1c1d412d1625",
   "metadata": {},
   "outputs": [
    {
     "data": {
      "text/plain": [
       "69"
      ]
     },
     "execution_count": 75,
     "metadata": {},
     "output_type": "execute_result"
    }
   ],
   "source": [
    "arr2[7,-4]"
   ]
  },
  {
   "cell_type": "code",
   "execution_count": 76,
   "id": "61d83844-cc5d-4d3c-bb20-bc933c8f76d1",
   "metadata": {},
   "outputs": [
    {
     "data": {
      "text/plain": [
       "69"
      ]
     },
     "execution_count": 76,
     "metadata": {},
     "output_type": "execute_result"
    }
   ],
   "source": [
    "arr2[-3,6]"
   ]
  },
  {
   "cell_type": "code",
   "execution_count": 77,
   "id": "b9002f37-8b5b-44a0-9cb4-a40c50c8dbb9",
   "metadata": {},
   "outputs": [
    {
     "data": {
      "text/plain": [
       "68"
      ]
     },
     "execution_count": 77,
     "metadata": {},
     "output_type": "execute_result"
    }
   ],
   "source": [
    "arr2[-4,5] "
   ]
  },
  {
   "cell_type": "code",
   "execution_count": 78,
   "id": "67f8d00f-76ae-4c55-8d59-4a893a7b2a27",
   "metadata": {},
   "outputs": [
    {
     "data": {
      "text/plain": [
       "45"
      ]
     },
     "execution_count": 78,
     "metadata": {},
     "output_type": "execute_result"
    }
   ],
   "source": [
    "arr2[-5,3]"
   ]
  },
  {
   "cell_type": "code",
   "execution_count": 79,
   "id": "3fae4bd5-e3b9-49f9-8fa8-d58c01b36a5a",
   "metadata": {},
   "outputs": [
    {
     "data": {
      "text/plain": [
       "58"
      ]
     },
     "execution_count": 79,
     "metadata": {},
     "output_type": "execute_result"
    }
   ],
   "source": [
    "arr2[-6,7]"
   ]
  },
  {
   "cell_type": "code",
   "execution_count": 80,
   "id": "d5a1bc53-33f0-4d2f-952a-437218f9a554",
   "metadata": {},
   "outputs": [
    {
     "data": {
      "text/plain": [
       "array([[65, 35, 62, 44, 23, 78, 22,  6, 52, 74],\n",
       "       [31,  8, 20, 52, 32, 12,  5, 54, 63, 53],\n",
       "       [47, 41, 56, 39, 46, 23, 69,  6, 71, 78],\n",
       "       [74, 62, 70, 29, 12, 68, 29, 70, 33, 63],\n",
       "       [54, 29,  3, 45, 62, 27, 78, 24, 21, 69],\n",
       "       [37, 67, 51,  5, 71, 30,  0, 58, 28, 61],\n",
       "       [35, 43, 72, 79, 56, 44, 26, 18, 56, 23],\n",
       "       [26, 63, 15, 73, 27, 62, 46, 32, 37, 43],\n",
       "       [22,  2, 32, 76, 45, 47, 63, 78,  1, 44],\n",
       "       [22, 22, 48, 70,  3, 37, 68, 57, 58, 66]])"
      ]
     },
     "execution_count": 80,
     "metadata": {},
     "output_type": "execute_result"
    }
   ],
   "source": [
    "arr2[::-1]"
   ]
  },
  {
   "cell_type": "code",
   "execution_count": 81,
   "id": "3bbea96b-16f5-4ef9-b54b-1a36f99c1ab2",
   "metadata": {},
   "outputs": [
    {
     "data": {
      "text/plain": [
       "array([[22, 22, 48, 70,  3, 37, 68, 57, 58, 66],\n",
       "       [22,  2, 32, 76, 45, 47, 63, 78,  1, 44],\n",
       "       [26, 63, 15, 73, 27, 62, 46, 32, 37, 43],\n",
       "       [35, 43, 72, 79, 56, 44, 26, 18, 56, 23],\n",
       "       [37, 67, 51,  5, 71, 30,  0, 58, 28, 61],\n",
       "       [54, 29,  3, 45, 62, 27, 78, 24, 21, 69],\n",
       "       [74, 62, 70, 29, 12, 68, 29, 70, 33, 63],\n",
       "       [47, 41, 56, 39, 46, 23, 69,  6, 71, 78],\n",
       "       [31,  8, 20, 52, 32, 12,  5, 54, 63, 53],\n",
       "       [65, 35, 62, 44, 23, 78, 22,  6, 52, 74]])"
      ]
     },
     "execution_count": 81,
     "metadata": {},
     "output_type": "execute_result"
    }
   ],
   "source": [
    "arr2[::]"
   ]
  },
  {
   "cell_type": "code",
   "execution_count": 83,
   "id": "d670ef52-ad10-401e-a5de-7208657634cc",
   "metadata": {},
   "outputs": [
    {
     "data": {
      "text/plain": [
       "array([[22, 22, 48, 70,  3, 37, 68, 57, 58, 66],\n",
       "       [26, 63, 15, 73, 27, 62, 46, 32, 37, 43],\n",
       "       [37, 67, 51,  5, 71, 30,  0, 58, 28, 61],\n",
       "       [74, 62, 70, 29, 12, 68, 29, 70, 33, 63],\n",
       "       [31,  8, 20, 52, 32, 12,  5, 54, 63, 53]])"
      ]
     },
     "execution_count": 83,
     "metadata": {},
     "output_type": "execute_result"
    }
   ],
   "source": [
    "arr2[::2]"
   ]
  },
  {
   "cell_type": "code",
   "execution_count": 84,
   "id": "08be3643-e281-460c-848f-7516dc2f7bfe",
   "metadata": {},
   "outputs": [
    {
     "data": {
      "text/plain": [
       "array([[22, 22, 48, 70,  3, 37, 68, 57, 58, 66],\n",
       "       [22,  2, 32, 76, 45, 47, 63, 78,  1, 44]])"
      ]
     },
     "execution_count": 84,
     "metadata": {},
     "output_type": "execute_result"
    }
   ],
   "source": [
    "arr2[:2]"
   ]
  },
  {
   "cell_type": "code",
   "execution_count": 86,
   "id": "1187f1e9-9212-4327-9a47-a2ebc7828948",
   "metadata": {},
   "outputs": [
    {
     "data": {
      "text/plain": [
       "array([0, 1, 2, 3, 4, 5])"
      ]
     },
     "execution_count": 86,
     "metadata": {},
     "output_type": "execute_result"
    }
   ],
   "source": [
    "arr"
   ]
  },
  {
   "cell_type": "code",
   "execution_count": 87,
   "id": "367cf855-2ec7-4971-80b7-62cfd0bf860d",
   "metadata": {},
   "outputs": [
    {
     "data": {
      "text/plain": [
       "5"
      ]
     },
     "execution_count": 87,
     "metadata": {},
     "output_type": "execute_result"
    }
   ],
   "source": [
    "arr.max()"
   ]
  },
  {
   "cell_type": "code",
   "execution_count": 88,
   "id": "5f5b7873-0e0f-4e9c-ae38-7c3dc1ca6bbe",
   "metadata": {},
   "outputs": [
    {
     "data": {
      "text/plain": [
       "0"
      ]
     },
     "execution_count": 88,
     "metadata": {},
     "output_type": "execute_result"
    }
   ],
   "source": [
    "arr.min()"
   ]
  },
  {
   "cell_type": "code",
   "execution_count": 89,
   "id": "878bedc0-5bf6-468c-8db1-e3217a34fa19",
   "metadata": {},
   "outputs": [
    {
     "data": {
      "text/plain": [
       "2.5"
      ]
     },
     "execution_count": 89,
     "metadata": {},
     "output_type": "execute_result"
    }
   ],
   "source": [
    "arr.mean()"
   ]
  },
  {
   "cell_type": "markdown",
   "id": "6fa82590-bff7-4754-935a-d28073433804",
   "metadata": {},
   "source": [
    "reashapes"
   ]
  },
  {
   "cell_type": "code",
   "execution_count": 90,
   "id": "ab462009-d5b2-4906-bec1-402eff729be3",
   "metadata": {},
   "outputs": [
    {
     "data": {
      "text/plain": [
       "array([[0, 1, 2],\n",
       "       [3, 4, 5]])"
      ]
     },
     "execution_count": 90,
     "metadata": {},
     "output_type": "execute_result"
    }
   ],
   "source": [
    "arr.reshape(2,3)"
   ]
  },
  {
   "cell_type": "code",
   "execution_count": 92,
   "id": "527ef264-a636-4ea2-9495-5696cd43bf53",
   "metadata": {},
   "outputs": [
    {
     "data": {
      "text/plain": [
       "array([[0, 1, 2, 3, 4, 5]])"
      ]
     },
     "execution_count": 92,
     "metadata": {},
     "output_type": "execute_result"
    }
   ],
   "source": [
    "arr.reshape(1,6)"
   ]
  },
  {
   "cell_type": "code",
   "execution_count": 93,
   "id": "8ed6d17d-c27b-4624-bc00-f39b65ffb5b4",
   "metadata": {},
   "outputs": [
    {
     "data": {
      "text/plain": [
       "array([[0],\n",
       "       [1],\n",
       "       [2],\n",
       "       [3],\n",
       "       [4],\n",
       "       [5]])"
      ]
     },
     "execution_count": 93,
     "metadata": {},
     "output_type": "execute_result"
    }
   ],
   "source": [
    "arr.reshape(6,1)"
   ]
  },
  {
   "cell_type": "code",
   "execution_count": 94,
   "id": "a14e161f-86ee-4412-9d08-8787ca107acf",
   "metadata": {},
   "outputs": [
    {
     "data": {
      "text/plain": [
       "array([[0, 1],\n",
       "       [2, 3],\n",
       "       [4, 5]])"
      ]
     },
     "execution_count": 94,
     "metadata": {},
     "output_type": "execute_result"
    }
   ],
   "source": [
    "arr.reshape(3,2)"
   ]
  },
  {
   "cell_type": "code",
   "execution_count": 98,
   "id": "a474073a-1f9b-4110-8a1f-040479bec417",
   "metadata": {},
   "outputs": [
    {
     "data": {
      "text/plain": [
       "3"
      ]
     },
     "execution_count": 98,
     "metadata": {},
     "output_type": "execute_result"
    }
   ],
   "source": [
    "row=3\n",
    "col=5\n",
    "row"
   ]
  },
  {
   "cell_type": "code",
   "execution_count": 99,
   "id": "d2775dec-adb1-46ae-a38d-b25b23d6974c",
   "metadata": {},
   "outputs": [
    {
     "data": {
      "text/plain": [
       "5"
      ]
     },
     "execution_count": 99,
     "metadata": {},
     "output_type": "execute_result"
    }
   ],
   "source": [
    "col"
   ]
  },
  {
   "cell_type": "code",
   "execution_count": 102,
   "id": "936f5d77-0935-4e2b-acc3-431f02fc53ac",
   "metadata": {},
   "outputs": [
    {
     "data": {
      "text/plain": [
       "[3, 5]"
      ]
     },
     "execution_count": 102,
     "metadata": {},
     "output_type": "execute_result"
    }
   ],
   "source": [
    "[row,col]"
   ]
  },
  {
   "cell_type": "code",
   "execution_count": 109,
   "id": "81a03460-bb76-4bd7-8ff6-9b017363700f",
   "metadata": {},
   "outputs": [],
   "source": [
    "import math"
   ]
  },
  {
   "cell_type": "raw",
   "id": "f9406eea-5a1e-4f67-93f4-a1f11fae143d",
   "metadata": {},
   "source": [
    "from math import*"
   ]
  },
  {
   "cell_type": "code",
   "execution_count": 120,
   "id": "ef9c540b-a9ac-404a-98ea-fb01f067a225",
   "metadata": {},
   "outputs": [
    {
     "data": {
      "text/plain": [
       "(3, 4)"
      ]
     },
     "execution_count": 120,
     "metadata": {},
     "output_type": "execute_result"
    }
   ],
   "source": [
    "math=(3,4)\n",
    "math"
   ]
  },
  {
   "cell_type": "code",
   "execution_count": 121,
   "id": "57d4ace2-f641-4c20-9526-421ff7030f0d",
   "metadata": {},
   "outputs": [
    {
     "data": {
      "text/plain": [
       "(3, 4)"
      ]
     },
     "execution_count": 121,
     "metadata": {},
     "output_type": "execute_result"
    }
   ],
   "source": [
    "math[:row]"
   ]
  },
  {
   "cell_type": "code",
   "execution_count": null,
   "id": "857e7b9e-de4d-4797-ad85-c0b5351a3bfd",
   "metadata": {},
   "outputs": [],
   "source": []
  },
  {
   "cell_type": "code",
   "execution_count": null,
   "id": "d5f2d561-ad21-454c-9b47-18fa975fe38b",
   "metadata": {},
   "outputs": [],
   "source": []
  },
  {
   "cell_type": "code",
   "execution_count": null,
   "id": "3ba2b9a1-66dd-476a-b8b2-7e1065a4623f",
   "metadata": {},
   "outputs": [],
   "source": []
  }
 ],
 "metadata": {
  "kernelspec": {
   "display_name": "Python 3 (ipykernel)",
   "language": "python",
   "name": "python3"
  },
  "language_info": {
   "codemirror_mode": {
    "name": "ipython",
    "version": 3
   },
   "file_extension": ".py",
   "mimetype": "text/x-python",
   "name": "python",
   "nbconvert_exporter": "python",
   "pygments_lexer": "ipython3",
   "version": "3.12.7"
  }
 },
 "nbformat": 4,
 "nbformat_minor": 5
}
